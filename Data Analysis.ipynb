{
 "cells": [
  {
   "cell_type": "markdown",
   "id": "779ee1cc",
   "metadata": {},
   "source": [
    "# Data Analysis"
   ]
  },
  {
   "cell_type": "markdown",
   "id": "ea25f1e3",
   "metadata": {},
   "source": [
    "In this notebook we will try to understand the topics we have in our database by answering the following questions: \n",
    "* Which information our data contain?\n",
    "* If our data have missing values and duplicates?\n",
    "* How the topics are organized? \n",
    "* Which topics appear most? \n",
    "* Are all the topics in english?\n",
    "* How we can split the phrases into phrases?"
   ]
  },
  {
   "cell_type": "markdown",
   "id": "d5ee294d",
   "metadata": {},
   "source": [
    "## Load the data "
   ]
  },
  {
   "cell_type": "markdown",
   "id": "1a7ea82e",
   "metadata": {},
   "source": [
    "Lets load the data.\n",
    "\n",
    "We download our DB data and now we want to explore the data of the books we have to analyze them. \n",
    "\n",
    "Our main goal is to learn about the topics of the books and parse them to phrases that we can work with in the next steps of the projects.\n",
    "\n",
    "We will extract the following information from our data:\n",
    "* **001 - book mms id**\n",
    "* **020 - book isbn**\n",
    "* **245 - book title**\n",
    "* **520 - book description**\n",
    "* **650 - book topics**\n",
    "* **300 - book number of pages**"
   ]
  },
  {
   "cell_type": "code",
   "execution_count": 1,
   "id": "2f99787d",
   "metadata": {
    "ExecuteTime": {
     "end_time": "2022-01-09T19:51:17.444542Z",
     "start_time": "2022-01-09T19:51:14.416050Z"
    }
   },
   "outputs": [],
   "source": [
    "\"\"\"\n",
    "Extracting from the MARC file the following informations: \n",
    "    001 - book mms id\n",
    "    020 - book isbn\n",
    "    245 - book title\n",
    "    520 - book description\n",
    "    650 - book topics\n",
    "    100 - book author\n",
    "    300 - book number of pages\n",
    "\"\"\"\n",
    "import xml.etree.ElementTree as ET\n",
    "import re\n",
    "xml_tree = ET.parse(\"BIBLIOGRAPHIC_64846678830003941_1.xml\")\n",
    "xml_root = xml_tree.getroot()\n",
    "enter = False\n",
    "# lists for the books informations\n",
    "ids=[]\n",
    "titles = []\n",
    "descriptions = []\n",
    "records_isbn = []\n",
    "topic_by_record = []\n",
    "authors = []\n",
    "book_pages = []\n",
    "for record in xml_root:\n",
    "    # local varaiables to extract the data from file\n",
    "    description = None\n",
    "    isbn = None\n",
    "    title = None\n",
    "    mms_id = None\n",
    "    author=None\n",
    "    record_topics= []\n",
    "    pages = None\n",
    "    # check each of the subfield and extract the information\n",
    "    for field in record.findall('controlfield'):\n",
    "        if field.get('tag') == '001':\n",
    "            mms_id = field.text\n",
    "            break\n",
    "    for field in record.findall('datafield'):\n",
    "        if not enter:\n",
    "            enter = True\n",
    "        if field.get('tag') == '650':\n",
    "            for subfield in field.findall('subfield'):\n",
    "                if subfield.get('code') == 'a':\n",
    "                    record_topics.append(subfield.text)\n",
    "        elif field.get('tag') == '245':\n",
    "            for subfield in field.findall('subfield'):\n",
    "                if subfield.get('code') == 'a':\n",
    "                    title = subfield.text\n",
    "                    if not title[-1].isalpha():\n",
    "                        title = title[:-1]     \n",
    "        elif field.get('tag') == '020':\n",
    "            for subfield in field.findall('subfield'):\n",
    "                if subfield.get('code') == 'a':\n",
    "                    isbn = subfield.text\n",
    "        elif field.get('tag') == '520':\n",
    "            for subfield in field.findall('subfield'):\n",
    "                if subfield.get('code') == 'a':       \n",
    "                    description = subfield.text\n",
    "        elif field.get('tag') == '100': \n",
    "            for subfield in field.findall('subfield'):\n",
    "                if subfield.get('code') == 'a':\n",
    "                    author = subfield.text\n",
    "        elif field.get('tag') == '300': \n",
    "            for subfield in field.findall('subfield'):\n",
    "                if subfield.get('code') == 'a':\n",
    "                    b_pages = re.sub(\"[^0-9]\", \"\", subfield.text)\n",
    "                    if b_pages != \"\":\n",
    "                        pages = int(b_pages) \n",
    "                    else:\n",
    "                        pages = None\n",
    "    topic_by_record.append(record_topics)\n",
    "    titles.append(title)\n",
    "    ids.append(mms_id)\n",
    "    descriptions.append(description)\n",
    "    records_isbn.append(isbn)\n",
    "    authors.append(author)\n",
    "    book_pages.append(pages)"
   ]
  },
  {
   "cell_type": "markdown",
   "id": "0be03f9b",
   "metadata": {},
   "source": [
    "# Data Preprocessing and analysis"
   ]
  },
  {
   "cell_type": "markdown",
   "id": "44844fd8",
   "metadata": {},
   "source": [
    "## Check that we have all the informations we need"
   ]
  },
  {
   "cell_type": "markdown",
   "id": "be428592",
   "metadata": {},
   "source": [
    "We loaded the data. Lets check the different information we extract and analyze them. Firstable we need to check we have all the required and search for missing values/duplicates."
   ]
  },
  {
   "cell_type": "code",
   "execution_count": 2,
   "id": "916bda74",
   "metadata": {
    "ExecuteTime": {
     "end_time": "2022-01-09T19:51:17.616478Z",
     "start_time": "2022-01-09T19:51:17.604499Z"
    }
   },
   "outputs": [
    {
     "name": "stdout",
     "output_type": "stream",
     "text": [
      "titles number: 15881\n",
      "The Highlander's stolen bride \n",
      "Daisy's back in town \n",
      "See Jane score \n",
      "Deeper than desire \n",
      "Too hot to handle \n",
      "\n",
      "topics number: 15881\n",
      "['Romance fiction', 'Romance fiction']\n",
      "['Man-woman relationships', 'Man-woman relationships']\n",
      "['Tabloid newspapers', 'Women sportswriters', 'Hockey players', 'Hockey players', 'Tabloid newspapers', 'Women sportswriters']\n",
      "['Romance fiction', 'Romance fiction']\n",
      "['Man-woman relationships', 'Man-woman relationships']\n",
      "\n",
      "books ids number: 15881\n",
      "990144992260203941\n",
      "990144992640203941\n",
      "990144992760203941\n",
      "990144992830203941\n",
      "990144992890203941\n",
      "\n",
      "book description number: 15881\n",
      "Despite his plans to marry his childhood friend Megan MacPherson, highland laird Derek Hardwicke is irrestibly drawn to Lady Rosalyn Carmichael, a lovely English girl on the run from her evil stepbrother, who will do anything to seize control of her inheritance.\n",
      "Former cheerleader Daisy Lee Monroe returns to her hometown of Lovett, Texas, and to her offbeat family, and is reunitied with gorgeous bad boy Jackson Lamott Parrish, the man she had left behind.\n",
      "While covering the Seattle Chinooks hockey team, reporter Jane Alcott meets career-focused goalie Luc Martineau, but their relationship is threatened by Jane's other occupation--writing the scandalous \"Honey Pie\" adventures.\n",
      "DESCRIPTION: With her family in dire straits, Olivia Hopkins reluctantly agrees to seek a marriage proposal from the aging Earl of Bristol. But the plan goes awry when Olivia finds an erotic volume in the Earl's library. Catching Olivia with the scandalous volume offers Philip Paxton a superb chance to humiliate the father he despises. Using the book as bait, Philip lures Olivia into an electrifying affair that explodes into unbridled lessons of carnal pleasure ...\n",
      "Arriving at the residence of the Earl of Winchester to interview for the position of governess to his two young wards in order to escaped an unwanted marriage, Emily Barnett is stunned to discover that the earl is also in the market for a new mistress.\n",
      "\n",
      "Authors number: 15881\n",
      "George, Melanie.\n",
      "Gibson, Rachel\n",
      "Gibson, Rachel\n",
      "Holt, Cheryl,\n",
      "Holt, Cheryl,\n",
      "\n",
      "Books isbn number: 15881\n",
      "1451631839\n",
      "9780060009250\n",
      "9780060009243\n",
      "9780312992828\n",
      "9780312937973\n",
      "\n",
      "Books page number: 15881\n",
      "355\n",
      "370\n",
      "375\n",
      "376\n",
      "342\n",
      "\n"
     ]
    }
   ],
   "source": [
    "print(\"titles number:\", len(titles))\n",
    "print(*titles[0:5],sep=\"\\n\",end=\"\\n\\n\")\n",
    "\n",
    "print(\"topics number:\", len(topic_by_record))\n",
    "print(*topic_by_record[0:5],sep=\"\\n\",end=\"\\n\\n\")\n",
    "\n",
    "print(\"books ids number:\", len(ids))\n",
    "print(*ids[0:5],sep=\"\\n\",end=\"\\n\\n\")\n",
    "\n",
    "print(\"book description number:\", len(descriptions))\n",
    "print(*descriptions[0:5],sep=\"\\n\",end=\"\\n\\n\")\n",
    "\n",
    "print(\"Authors number:\", len(authors))\n",
    "print(*authors[0:5],sep=\"\\n\",end=\"\\n\\n\")\n",
    "\n",
    "print(\"Books isbn number:\", len(records_isbn))\n",
    "print(*records_isbn[0:5],sep=\"\\n\",end=\"\\n\\n\")\n",
    "\n",
    "print(\"Books page number:\", len(book_pages))\n",
    "print(*book_pages[0:5],sep=\"\\n\",end=\"\\n\\n\")"
   ]
  },
  {
   "cell_type": "markdown",
   "id": "2c609ed0",
   "metadata": {},
   "source": [
    "We have 15881 entries in the data and we checked how our data looks."
   ]
  },
  {
   "cell_type": "markdown",
   "id": "007cd0e6",
   "metadata": {},
   "source": [
    "## Merge all the information to one dataset"
   ]
  },
  {
   "cell_type": "markdown",
   "id": "bd546ab3",
   "metadata": {},
   "source": [
    "Since we have all the data and the number of all our book information are equal lets merge them together for a better analysis.\n",
    "\n",
    "We will use Pandas dataset for analyze our data."
   ]
  },
  {
   "cell_type": "code",
   "execution_count": 3,
   "id": "482e3450",
   "metadata": {
    "ExecuteTime": {
     "end_time": "2022-01-09T19:51:22.046997Z",
     "start_time": "2022-01-09T19:51:21.256739Z"
    }
   },
   "outputs": [
    {
     "data": {
      "text/html": [
       "<div>\n",
       "<style scoped>\n",
       "    .dataframe tbody tr th:only-of-type {\n",
       "        vertical-align: middle;\n",
       "    }\n",
       "\n",
       "    .dataframe tbody tr th {\n",
       "        vertical-align: top;\n",
       "    }\n",
       "\n",
       "    .dataframe thead th {\n",
       "        text-align: right;\n",
       "    }\n",
       "</style>\n",
       "<table border=\"1\" class=\"dataframe\">\n",
       "  <thead>\n",
       "    <tr style=\"text-align: right;\">\n",
       "      <th></th>\n",
       "      <th>id</th>\n",
       "      <th>isbn</th>\n",
       "      <th>title</th>\n",
       "      <th>topics</th>\n",
       "      <th>description</th>\n",
       "      <th>author</th>\n",
       "      <th>pages</th>\n",
       "      <th>topic length</th>\n",
       "    </tr>\n",
       "  </thead>\n",
       "  <tbody>\n",
       "    <tr>\n",
       "      <th>0</th>\n",
       "      <td>990144992260203941</td>\n",
       "      <td>1451631839</td>\n",
       "      <td>The Highlander's stolen bride</td>\n",
       "      <td>[Romance fiction, Romance fiction]</td>\n",
       "      <td>Despite his plans to marry his childhood friend Megan MacPherson, highland laird Derek Hardwicke is irrestibly drawn to Lady Rosalyn Carmichael, a lovely English girl on the run from her evil stepbrother, who will do anything to seize control of her inheritance.</td>\n",
       "      <td>George, Melanie.</td>\n",
       "      <td>355.0</td>\n",
       "      <td>2</td>\n",
       "    </tr>\n",
       "    <tr>\n",
       "      <th>1</th>\n",
       "      <td>990144992640203941</td>\n",
       "      <td>9780060009250</td>\n",
       "      <td>Daisy's back in town</td>\n",
       "      <td>[Man-woman relationships, Man-woman relationships]</td>\n",
       "      <td>Former cheerleader Daisy Lee Monroe returns to her hometown of Lovett, Texas, and to her offbeat family, and is reunitied with gorgeous bad boy Jackson Lamott Parrish, the man she had left behind.</td>\n",
       "      <td>Gibson, Rachel</td>\n",
       "      <td>370.0</td>\n",
       "      <td>2</td>\n",
       "    </tr>\n",
       "    <tr>\n",
       "      <th>2</th>\n",
       "      <td>990144992760203941</td>\n",
       "      <td>9780060009243</td>\n",
       "      <td>See Jane score</td>\n",
       "      <td>[Tabloid newspapers, Women sportswriters, Hockey players, Hockey players, Tabloid newspapers, Women sportswriters]</td>\n",
       "      <td>While covering the Seattle Chinooks hockey team, reporter Jane Alcott meets career-focused goalie Luc Martineau, but their relationship is threatened by Jane's other occupation--writing the scandalous \"Honey Pie\" adventures.</td>\n",
       "      <td>Gibson, Rachel</td>\n",
       "      <td>375.0</td>\n",
       "      <td>6</td>\n",
       "    </tr>\n",
       "    <tr>\n",
       "      <th>3</th>\n",
       "      <td>990144992830203941</td>\n",
       "      <td>9780312992828</td>\n",
       "      <td>Deeper than desire</td>\n",
       "      <td>[Romance fiction, Romance fiction]</td>\n",
       "      <td>DESCRIPTION: With her family in dire straits, Olivia Hopkins reluctantly agrees to seek a marriage proposal from the aging Earl of Bristol. But the plan goes awry when Olivia finds an erotic volume in the Earl's library. Catching Olivia with the scandalous volume offers Philip Paxton a superb chance to humiliate the father he despises. Using the book as bait, Philip lures Olivia into an electrifying affair that explodes into unbridled lessons of carnal pleasure ...</td>\n",
       "      <td>Holt, Cheryl,</td>\n",
       "      <td>376.0</td>\n",
       "      <td>2</td>\n",
       "    </tr>\n",
       "    <tr>\n",
       "      <th>4</th>\n",
       "      <td>990144992890203941</td>\n",
       "      <td>9780312937973</td>\n",
       "      <td>Too hot to handle</td>\n",
       "      <td>[Man-woman relationships, Man-woman relationships]</td>\n",
       "      <td>Arriving at the residence of the Earl of Winchester to interview for the position of governess to his two young wards in order to escaped an unwanted marriage, Emily Barnett is stunned to discover that the earl is also in the market for a new mistress.</td>\n",
       "      <td>Holt, Cheryl,</td>\n",
       "      <td>342.0</td>\n",
       "      <td>2</td>\n",
       "    </tr>\n",
       "  </tbody>\n",
       "</table>\n",
       "</div>"
      ],
      "text/plain": [
       "                   id           isbn                           title                                                                                                              topics                                                                                                                                                                                                                                                                                                                                                                                                                                                                            description            author  pages  topic length\n",
       "0  990144992260203941     1451631839  The Highlander's stolen bride                                                                                   [Romance fiction, Romance fiction]                                                                                                                                                                                                                 Despite his plans to marry his childhood friend Megan MacPherson, highland laird Derek Hardwicke is irrestibly drawn to Lady Rosalyn Carmichael, a lovely English girl on the run from her evil stepbrother, who will do anything to seize control of her inheritance.  George, Melanie.  355.0             2\n",
       "1  990144992640203941  9780060009250           Daisy's back in town                                                                   [Man-woman relationships, Man-woman relationships]                                                                                                                                                                                                                                                                                   Former cheerleader Daisy Lee Monroe returns to her hometown of Lovett, Texas, and to her offbeat family, and is reunitied with gorgeous bad boy Jackson Lamott Parrish, the man she had left behind.    Gibson, Rachel  370.0             2\n",
       "2  990144992760203941  9780060009243                 See Jane score   [Tabloid newspapers, Women sportswriters, Hockey players, Hockey players, Tabloid newspapers, Women sportswriters]                                                                                                                                                                                                                                                       While covering the Seattle Chinooks hockey team, reporter Jane Alcott meets career-focused goalie Luc Martineau, but their relationship is threatened by Jane's other occupation--writing the scandalous \"Honey Pie\" adventures.    Gibson, Rachel  375.0             6\n",
       "3  990144992830203941  9780312992828             Deeper than desire                                                                                   [Romance fiction, Romance fiction]  DESCRIPTION: With her family in dire straits, Olivia Hopkins reluctantly agrees to seek a marriage proposal from the aging Earl of Bristol. But the plan goes awry when Olivia finds an erotic volume in the Earl's library. Catching Olivia with the scandalous volume offers Philip Paxton a superb chance to humiliate the father he despises. Using the book as bait, Philip lures Olivia into an electrifying affair that explodes into unbridled lessons of carnal pleasure ...     Holt, Cheryl,  376.0             2\n",
       "4  990144992890203941  9780312937973              Too hot to handle                                                                   [Man-woman relationships, Man-woman relationships]                                                                                                                                                                                                                           Arriving at the residence of the Earl of Winchester to interview for the position of governess to his two young wards in order to escaped an unwanted marriage, Emily Barnett is stunned to discover that the earl is also in the market for a new mistress.     Holt, Cheryl,  342.0             2"
      ]
     },
     "metadata": {},
     "output_type": "display_data"
    }
   ],
   "source": [
    "import pandas as pd\n",
    "# overide display basic size to get a better view for our datasets:\n",
    "pd.set_option('display.max_columns', 500)\n",
    "pd.set_option('display.width', 5000)\n",
    "pd.set_option(\"max_colwidth\", 1000)\n",
    "pd.set_option('display.max_rows', 5000)\n",
    "\n",
    "#Convert topics to DataFrame\n",
    "data = pd.DataFrame({\"id\":ids,\n",
    "                     \"isbn\":records_isbn,\n",
    "                     \"title\":titles,\n",
    "                     \"topics\":topic_by_record,\n",
    "                     \"description\":descriptions,\n",
    "                     \"author\":authors,\n",
    "                     \"pages\":book_pages})\n",
    "\n",
    "data['topic length'] = data[\"topics\"].str.len()\n",
    "display(data.head(5))"
   ]
  },
  {
   "cell_type": "markdown",
   "id": "b1f74e1e",
   "metadata": {},
   "source": [
    "## Check for missing values or id duplications"
   ]
  },
  {
   "cell_type": "markdown",
   "id": "d80b2092",
   "metadata": {},
   "source": [
    "We want to check if we had a missing values in our dataset and also check if we have ID duplications."
   ]
  },
  {
   "cell_type": "code",
   "execution_count": 4,
   "id": "6a294200",
   "metadata": {
    "ExecuteTime": {
     "end_time": "2022-01-09T19:51:24.639591Z",
     "start_time": "2022-01-09T19:51:23.740713Z"
    }
   },
   "outputs": [
    {
     "name": "stdout",
     "output_type": "stream",
     "text": [
      "Display missing values in the data:\n"
     ]
    },
    {
     "data": {
      "text/html": [
       "<style type=\"text/css\">\n",
       "</style>\n",
       "<table id=\"T_1646b_\">\n",
       "  <thead>\n",
       "    <tr>\n",
       "      <th class=\"blank level0\" >&nbsp;</th>\n",
       "      <th class=\"col_heading level0 col0\" >missing</th>\n",
       "      <th class=\"col_heading level0 col1\" >total</th>\n",
       "      <th class=\"col_heading level0 col2\" >percent</th>\n",
       "    </tr>\n",
       "  </thead>\n",
       "  <tbody>\n",
       "    <tr>\n",
       "      <th id=\"T_1646b_level0_row0\" class=\"row_heading level0 row0\" >description</th>\n",
       "      <td id=\"T_1646b_row0_col0\" class=\"data row0 col0\" >12,196</td>\n",
       "      <td id=\"T_1646b_row0_col1\" class=\"data row0 col1\" >15,881</td>\n",
       "      <td id=\"T_1646b_row0_col2\" class=\"data row0 col2\" >76.80%</td>\n",
       "    </tr>\n",
       "    <tr>\n",
       "      <th id=\"T_1646b_level0_row1\" class=\"row_heading level0 row1\" >isbn</th>\n",
       "      <td id=\"T_1646b_row1_col0\" class=\"data row1 col0\" >9,118</td>\n",
       "      <td id=\"T_1646b_row1_col1\" class=\"data row1 col1\" >15,881</td>\n",
       "      <td id=\"T_1646b_row1_col2\" class=\"data row1 col2\" >57.41%</td>\n",
       "    </tr>\n",
       "    <tr>\n",
       "      <th id=\"T_1646b_level0_row2\" class=\"row_heading level0 row2\" >author</th>\n",
       "      <td id=\"T_1646b_row2_col0\" class=\"data row2 col0\" >2,256</td>\n",
       "      <td id=\"T_1646b_row2_col1\" class=\"data row2 col1\" >15,881</td>\n",
       "      <td id=\"T_1646b_row2_col2\" class=\"data row2 col2\" >14.21%</td>\n",
       "    </tr>\n",
       "    <tr>\n",
       "      <th id=\"T_1646b_level0_row3\" class=\"row_heading level0 row3\" >pages</th>\n",
       "      <td id=\"T_1646b_row3_col0\" class=\"data row3 col0\" >84</td>\n",
       "      <td id=\"T_1646b_row3_col1\" class=\"data row3 col1\" >15,881</td>\n",
       "      <td id=\"T_1646b_row3_col2\" class=\"data row3 col2\" >0.53%</td>\n",
       "    </tr>\n",
       "    <tr>\n",
       "      <th id=\"T_1646b_level0_row4\" class=\"row_heading level0 row4\" >id</th>\n",
       "      <td id=\"T_1646b_row4_col0\" class=\"data row4 col0\" >0</td>\n",
       "      <td id=\"T_1646b_row4_col1\" class=\"data row4 col1\" >15,881</td>\n",
       "      <td id=\"T_1646b_row4_col2\" class=\"data row4 col2\" >0.00%</td>\n",
       "    </tr>\n",
       "    <tr>\n",
       "      <th id=\"T_1646b_level0_row5\" class=\"row_heading level0 row5\" >title</th>\n",
       "      <td id=\"T_1646b_row5_col0\" class=\"data row5 col0\" >0</td>\n",
       "      <td id=\"T_1646b_row5_col1\" class=\"data row5 col1\" >15,881</td>\n",
       "      <td id=\"T_1646b_row5_col2\" class=\"data row5 col2\" >0.00%</td>\n",
       "    </tr>\n",
       "    <tr>\n",
       "      <th id=\"T_1646b_level0_row6\" class=\"row_heading level0 row6\" >topic length</th>\n",
       "      <td id=\"T_1646b_row6_col0\" class=\"data row6 col0\" >0</td>\n",
       "      <td id=\"T_1646b_row6_col1\" class=\"data row6 col1\" >15,881</td>\n",
       "      <td id=\"T_1646b_row6_col2\" class=\"data row6 col2\" >0.00%</td>\n",
       "    </tr>\n",
       "  </tbody>\n",
       "</table>\n"
      ],
      "text/plain": [
       "<pandas.io.formats.style.Styler at 0x230f0b040a0>"
      ]
     },
     "metadata": {},
     "output_type": "display_data"
    },
    {
     "name": "stdout",
     "output_type": "stream",
     "text": [
      "\n",
      "The dataframe don't have ID duplicatations.\n",
      "\n"
     ]
    }
   ],
   "source": [
    "import sidetable\n",
    "print(\"Display missing values in the data:\")\n",
    "display(data.drop(\"topics\",axis=1).stb.missing(style=True))\n",
    "\n",
    "\n",
    "if data['id'].duplicated().sum() != 0:\n",
    "    print(\"\\n\"+\"The dataframe have ID duplications.\\n\")\n",
    "else:\n",
    "    print(\"\\n\"+\"The dataframe don't have ID duplicatations.\\n\")"
   ]
  },
  {
   "cell_type": "markdown",
   "id": "7d1e9cb6",
   "metadata": {},
   "source": [
    "We can notice that for some books we have missing values:\n",
    "* The description of the books is missing in 76.80% of the data, so most of the time we can't use that information.\n",
    "* The ISBN(Intenational Standard Book Number) is missing in 57.41% of the data. \n",
    "* The author name is missing in 14.21% of the data.\n",
    "* The number of pages is missing in 84 books(0.53% of the data)\n",
    "\n",
    "In the other categories(ID and title) we don't have missing values. In the topics we will check later on."
   ]
  },
  {
   "cell_type": "markdown",
   "id": "d42a7e6e",
   "metadata": {},
   "source": [
    "## Check the books we have by the title"
   ]
  },
  {
   "cell_type": "code",
   "execution_count": 5,
   "id": "dea429e3",
   "metadata": {
    "ExecuteTime": {
     "end_time": "2022-01-09T19:51:26.405260Z",
     "start_time": "2022-01-09T19:51:26.376201Z"
    }
   },
   "outputs": [
    {
     "data": {
      "text/html": [
       "<div>\n",
       "<style scoped>\n",
       "    .dataframe tbody tr th:only-of-type {\n",
       "        vertical-align: middle;\n",
       "    }\n",
       "\n",
       "    .dataframe tbody tr th {\n",
       "        vertical-align: top;\n",
       "    }\n",
       "\n",
       "    .dataframe thead th {\n",
       "        text-align: right;\n",
       "    }\n",
       "</style>\n",
       "<table border=\"1\" class=\"dataframe\">\n",
       "  <thead>\n",
       "    <tr style=\"text-align: right;\">\n",
       "      <th></th>\n",
       "      <th>title</th>\n",
       "      <th>Number of appearence</th>\n",
       "    </tr>\n",
       "  </thead>\n",
       "  <tbody>\n",
       "    <tr>\n",
       "      <th>0</th>\n",
       "      <td>The life and adventures of Robinson Crusoe</td>\n",
       "      <td>67</td>\n",
       "    </tr>\n",
       "    <tr>\n",
       "      <th>1</th>\n",
       "      <td>Robinson Crusoe</td>\n",
       "      <td>17</td>\n",
       "    </tr>\n",
       "    <tr>\n",
       "      <th>2</th>\n",
       "      <td>Life and adventures of Robinson Crusoe</td>\n",
       "      <td>14</td>\n",
       "    </tr>\n",
       "    <tr>\n",
       "      <th>3</th>\n",
       "      <td>Robinson Crusoe</td>\n",
       "      <td>12</td>\n",
       "    </tr>\n",
       "    <tr>\n",
       "      <th>4</th>\n",
       "      <td>The pilgrim's progress</td>\n",
       "      <td>12</td>\n",
       "    </tr>\n",
       "    <tr>\n",
       "      <th>5</th>\n",
       "      <td>The pilgrim's progress from this world to that which is to come</td>\n",
       "      <td>11</td>\n",
       "    </tr>\n",
       "    <tr>\n",
       "      <th>6</th>\n",
       "      <td>The Swiss family Robinson</td>\n",
       "      <td>11</td>\n",
       "    </tr>\n",
       "    <tr>\n",
       "      <th>7</th>\n",
       "      <td>The Life and adventures of Robinson Crusoe</td>\n",
       "      <td>10</td>\n",
       "    </tr>\n",
       "    <tr>\n",
       "      <th>8</th>\n",
       "      <td>Paul and Virginia</td>\n",
       "      <td>10</td>\n",
       "    </tr>\n",
       "    <tr>\n",
       "      <th>9</th>\n",
       "      <td>The life and adventures of Robinson Crusoe of York, mariner</td>\n",
       "      <td>9</td>\n",
       "    </tr>\n",
       "  </tbody>\n",
       "</table>\n",
       "</div>"
      ],
      "text/plain": [
       "                                                              title  Number of appearence\n",
       "0                       The life and adventures of Robinson Crusoe                     67\n",
       "1                                                  Robinson Crusoe                     17\n",
       "2                           Life and adventures of Robinson Crusoe                     14\n",
       "3                                                   Robinson Crusoe                    12\n",
       "4                                           The pilgrim's progress                     12\n",
       "5  The pilgrim's progress from this world to that which is to come                     11\n",
       "6                                        The Swiss family Robinson                     11\n",
       "7                       The Life and adventures of Robinson Crusoe                     10\n",
       "8                                                Paul and Virginia                     10\n",
       "9      The life and adventures of Robinson Crusoe of York, mariner                      9"
      ]
     },
     "metadata": {},
     "output_type": "display_data"
    },
    {
     "data": {
      "text/html": [
       "<div>\n",
       "<style scoped>\n",
       "    .dataframe tbody tr th:only-of-type {\n",
       "        vertical-align: middle;\n",
       "    }\n",
       "\n",
       "    .dataframe tbody tr th {\n",
       "        vertical-align: top;\n",
       "    }\n",
       "\n",
       "    .dataframe thead th {\n",
       "        text-align: right;\n",
       "    }\n",
       "</style>\n",
       "<table border=\"1\" class=\"dataframe\">\n",
       "  <thead>\n",
       "    <tr style=\"text-align: right;\">\n",
       "      <th></th>\n",
       "      <th>title</th>\n",
       "      <th>Number of appearence</th>\n",
       "    </tr>\n",
       "  </thead>\n",
       "  <tbody>\n",
       "    <tr>\n",
       "      <th>14353</th>\n",
       "      <td>Daughters of memory</td>\n",
       "      <td>1</td>\n",
       "    </tr>\n",
       "    <tr>\n",
       "      <th>14354</th>\n",
       "      <td>Beauty's punishment</td>\n",
       "      <td>1</td>\n",
       "    </tr>\n",
       "    <tr>\n",
       "      <th>14355</th>\n",
       "      <td>The lover of horses</td>\n",
       "      <td>1</td>\n",
       "    </tr>\n",
       "    <tr>\n",
       "      <th>14356</th>\n",
       "      <td>The gospel of wealth in the American novel</td>\n",
       "      <td>1</td>\n",
       "    </tr>\n",
       "    <tr>\n",
       "      <th>14357</th>\n",
       "      <td>Tuppence ha'penny is a nickel</td>\n",
       "      <td>1</td>\n",
       "    </tr>\n",
       "    <tr>\n",
       "      <th>14358</th>\n",
       "      <td>Spanking the maid</td>\n",
       "      <td>1</td>\n",
       "    </tr>\n",
       "    <tr>\n",
       "      <th>14359</th>\n",
       "      <td>Daughters of the twilight</td>\n",
       "      <td>1</td>\n",
       "    </tr>\n",
       "    <tr>\n",
       "      <th>14360</th>\n",
       "      <td>The night the gods smiled</td>\n",
       "      <td>1</td>\n",
       "    </tr>\n",
       "    <tr>\n",
       "      <th>14361</th>\n",
       "      <td>Smoke detector</td>\n",
       "      <td>1</td>\n",
       "    </tr>\n",
       "    <tr>\n",
       "      <th>14362</th>\n",
       "      <td>Sins of the tongue, or, Truth is everything</td>\n",
       "      <td>1</td>\n",
       "    </tr>\n",
       "  </tbody>\n",
       "</table>\n",
       "</div>"
      ],
      "text/plain": [
       "                                             title  Number of appearence\n",
       "14353                         Daughters of memory                      1\n",
       "14354                         Beauty's punishment                      1\n",
       "14355                         The lover of horses                      1\n",
       "14356  The gospel of wealth in the American novel                      1\n",
       "14357               Tuppence ha'penny is a nickel                      1\n",
       "14358                           Spanking the maid                      1\n",
       "14359                   Daughters of the twilight                      1\n",
       "14360                   The night the gods smiled                      1\n",
       "14361                              Smoke detector                      1\n",
       "14362  Sins of the tongue, or, Truth is everything                     1"
      ]
     },
     "metadata": {},
     "output_type": "display_data"
    }
   ],
   "source": [
    "titles_count = data[\"title\"].value_counts().reset_index()\n",
    "titles_count.columns=[\"title\",\"Number of appearence\"]\n",
    "display(titles_count.head(10))\n",
    "display(titles_count.tail(10))"
   ]
  },
  {
   "cell_type": "markdown",
   "id": "9031bf91",
   "metadata": {},
   "source": [
    "We can see that titles most of the time appears really few times."
   ]
  },
  {
   "cell_type": "markdown",
   "id": "70e2261b",
   "metadata": {},
   "source": [
    "## Check the topics and their appearence"
   ]
  },
  {
   "cell_type": "code",
   "execution_count": 6,
   "id": "5e191ca4",
   "metadata": {
    "ExecuteTime": {
     "end_time": "2022-01-09T19:51:33.576949Z",
     "start_time": "2022-01-09T19:51:28.403311Z"
    }
   },
   "outputs": [
    {
     "data": {
      "text/html": [
       "<div>\n",
       "<style scoped>\n",
       "    .dataframe tbody tr th:only-of-type {\n",
       "        vertical-align: middle;\n",
       "    }\n",
       "\n",
       "    .dataframe tbody tr th {\n",
       "        vertical-align: top;\n",
       "    }\n",
       "\n",
       "    .dataframe thead th {\n",
       "        text-align: right;\n",
       "    }\n",
       "</style>\n",
       "<table border=\"1\" class=\"dataframe\">\n",
       "  <thead>\n",
       "    <tr style=\"text-align: right;\">\n",
       "      <th></th>\n",
       "      <th>topics</th>\n",
       "      <th>Number of appearence</th>\n",
       "    </tr>\n",
       "  </thead>\n",
       "  <tbody>\n",
       "    <tr>\n",
       "      <th>0</th>\n",
       "      <td>[]</td>\n",
       "      <td>1485</td>\n",
       "    </tr>\n",
       "    <tr>\n",
       "      <th>1</th>\n",
       "      <td>[Children, Conduct of life, Children's stories]</td>\n",
       "      <td>198</td>\n",
       "    </tr>\n",
       "    <tr>\n",
       "      <th>2</th>\n",
       "      <td>[Gay men, Gay men]</td>\n",
       "      <td>165</td>\n",
       "    </tr>\n",
       "    <tr>\n",
       "      <th>3</th>\n",
       "      <td>[Castaways, Shipwrecks, Shipwreck survival]</td>\n",
       "      <td>117</td>\n",
       "    </tr>\n",
       "    <tr>\n",
       "      <th>4</th>\n",
       "      <td>[Manners and customs]</td>\n",
       "      <td>110</td>\n",
       "    </tr>\n",
       "    <tr>\n",
       "      <th>5</th>\n",
       "      <td>[Christian life, Children's stories]</td>\n",
       "      <td>106</td>\n",
       "    </tr>\n",
       "    <tr>\n",
       "      <th>6</th>\n",
       "      <td>[Lesbians, Lesbians]</td>\n",
       "      <td>99</td>\n",
       "    </tr>\n",
       "    <tr>\n",
       "      <th>7</th>\n",
       "      <td>[Children's stories, Children, Conduct of life]</td>\n",
       "      <td>69</td>\n",
       "    </tr>\n",
       "    <tr>\n",
       "      <th>8</th>\n",
       "      <td>[Romance fiction, Romance fiction]</td>\n",
       "      <td>56</td>\n",
       "    </tr>\n",
       "    <tr>\n",
       "      <th>9</th>\n",
       "      <td>[Canadian fiction]</td>\n",
       "      <td>55</td>\n",
       "    </tr>\n",
       "    <tr>\n",
       "      <th>10</th>\n",
       "      <td>[Man-woman relationships, Man-woman relationships]</td>\n",
       "      <td>45</td>\n",
       "    </tr>\n",
       "    <tr>\n",
       "      <th>11</th>\n",
       "      <td>[Gay men]</td>\n",
       "      <td>45</td>\n",
       "    </tr>\n",
       "    <tr>\n",
       "      <th>12</th>\n",
       "      <td>[English fiction, English fiction]</td>\n",
       "      <td>43</td>\n",
       "    </tr>\n",
       "    <tr>\n",
       "      <th>13</th>\n",
       "      <td>[American fiction, American fiction, American fiction]</td>\n",
       "      <td>38</td>\n",
       "    </tr>\n",
       "    <tr>\n",
       "      <th>14</th>\n",
       "      <td>[Crusoe, Robinson (Fictitious character), Castaways, Shipwrecks, Shipwreck survival]</td>\n",
       "      <td>37</td>\n",
       "    </tr>\n",
       "  </tbody>\n",
       "</table>\n",
       "</div>"
      ],
      "text/plain": [
       "                                                                                  topics  Number of appearence\n",
       "0                                                                                     []                  1485\n",
       "1                                        [Children, Conduct of life, Children's stories]                   198\n",
       "2                                                                     [Gay men, Gay men]                   165\n",
       "3                                            [Castaways, Shipwrecks, Shipwreck survival]                   117\n",
       "4                                                                  [Manners and customs]                   110\n",
       "5                                                   [Christian life, Children's stories]                   106\n",
       "6                                                                   [Lesbians, Lesbians]                    99\n",
       "7                                        [Children's stories, Children, Conduct of life]                    69\n",
       "8                                                     [Romance fiction, Romance fiction]                    56\n",
       "9                                                                     [Canadian fiction]                    55\n",
       "10                                    [Man-woman relationships, Man-woman relationships]                    45\n",
       "11                                                                             [Gay men]                    45\n",
       "12                                                    [English fiction, English fiction]                    43\n",
       "13                                [American fiction, American fiction, American fiction]                    38\n",
       "14  [Crusoe, Robinson (Fictitious character), Castaways, Shipwrecks, Shipwreck survival]                    37"
      ]
     },
     "metadata": {},
     "output_type": "display_data"
    },
    {
     "data": {
      "text/html": [
       "<div>\n",
       "<style scoped>\n",
       "    .dataframe tbody tr th:only-of-type {\n",
       "        vertical-align: middle;\n",
       "    }\n",
       "\n",
       "    .dataframe tbody tr th {\n",
       "        vertical-align: top;\n",
       "    }\n",
       "\n",
       "    .dataframe thead th {\n",
       "        text-align: right;\n",
       "    }\n",
       "</style>\n",
       "<table border=\"1\" class=\"dataframe\">\n",
       "  <thead>\n",
       "    <tr style=\"text-align: right;\">\n",
       "      <th></th>\n",
       "      <th>topics</th>\n",
       "      <th>Number of appearence</th>\n",
       "    </tr>\n",
       "  </thead>\n",
       "  <tbody>\n",
       "    <tr>\n",
       "      <th>10848</th>\n",
       "      <td>[Children's stories, Child labor, Temperance]</td>\n",
       "      <td>1</td>\n",
       "    </tr>\n",
       "    <tr>\n",
       "      <th>10849</th>\n",
       "      <td>[Families, Christian life, Curiosity, Suffering, Diseases, Humiliation, Animal welfare, Children, Conduct of life]</td>\n",
       "      <td>1</td>\n",
       "    </tr>\n",
       "    <tr>\n",
       "      <th>10850</th>\n",
       "      <td>[Christian life, Mothers and daughters, Charity, Poverty]</td>\n",
       "      <td>1</td>\n",
       "    </tr>\n",
       "    <tr>\n",
       "      <th>10851</th>\n",
       "      <td>[Jackdaw]</td>\n",
       "      <td>1</td>\n",
       "    </tr>\n",
       "    <tr>\n",
       "      <th>10852</th>\n",
       "      <td>[Truthfulness and falsehood, Friendship, Girls, Conduct of life]</td>\n",
       "      <td>1</td>\n",
       "    </tr>\n",
       "    <tr>\n",
       "      <th>10853</th>\n",
       "      <td>[Fishing stories, Camping, Trapping]</td>\n",
       "      <td>1</td>\n",
       "    </tr>\n",
       "    <tr>\n",
       "      <th>10854</th>\n",
       "      <td>[Children, Conduct of life, Friendship, Quarreling, Theft, Evidence, Circumstantial, Temperance, Courage, Rabies]</td>\n",
       "      <td>1</td>\n",
       "    </tr>\n",
       "    <tr>\n",
       "      <th>10855</th>\n",
       "      <td>[Boys, Conduct of life, First year teachers, Teacher-student relationships, Students, Private schools, Electric generators, Physical sciences, Courtship, Country life, Brigands and robbers]</td>\n",
       "      <td>1</td>\n",
       "    </tr>\n",
       "    <tr>\n",
       "      <th>10856</th>\n",
       "      <td>[Blindness, Brothers and sisters, Charity, Christian life, Poverty, Success, Artists]</td>\n",
       "      <td>1</td>\n",
       "    </tr>\n",
       "    <tr>\n",
       "      <th>10857</th>\n",
       "      <td>[Fathers and daughters, Poverty, Farm life, Animals, Imaginary places, Adventure stories, Carnivals, Leisure, Water carriers (Persons), Monks, Children's stories]</td>\n",
       "      <td>1</td>\n",
       "    </tr>\n",
       "    <tr>\n",
       "      <th>10858</th>\n",
       "      <td>[Frontier and pioneer life, Outdoor life, Conduct of life, Children, Wilderness survival, Nature stories., Home, Indians of North America, Inheritance and succession]</td>\n",
       "      <td>1</td>\n",
       "    </tr>\n",
       "    <tr>\n",
       "      <th>10859</th>\n",
       "      <td>[Youth, Christian life, Children, Conduct of life, Courage, Prayer, Death, Children and strangers]</td>\n",
       "      <td>1</td>\n",
       "    </tr>\n",
       "    <tr>\n",
       "      <th>10860</th>\n",
       "      <td>[Christian life, Conduct of life, Death, Prisoners, Remorse, Seafaring life, Suspicion, Children]</td>\n",
       "      <td>1</td>\n",
       "    </tr>\n",
       "    <tr>\n",
       "      <th>10861</th>\n",
       "      <td>[Conversion, Protestant converts, Anti-Catholicism, Books, Christian life, Christian literature]</td>\n",
       "      <td>1</td>\n",
       "    </tr>\n",
       "    <tr>\n",
       "      <th>10862</th>\n",
       "      <td>[Truthfulness and falsehood, Sisters, Boarding schools, Children and death]</td>\n",
       "      <td>1</td>\n",
       "    </tr>\n",
       "  </tbody>\n",
       "</table>\n",
       "</div>"
      ],
      "text/plain": [
       "                                                                                                                                                                                              topics  Number of appearence\n",
       "10848                                                                                                                                                  [Children's stories, Child labor, Temperance]                     1\n",
       "10849                                                                             [Families, Christian life, Curiosity, Suffering, Diseases, Humiliation, Animal welfare, Children, Conduct of life]                     1\n",
       "10850                                                                                                                                      [Christian life, Mothers and daughters, Charity, Poverty]                     1\n",
       "10851                                                                                                                                                                                      [Jackdaw]                     1\n",
       "10852                                                                                                                               [Truthfulness and falsehood, Friendship, Girls, Conduct of life]                     1\n",
       "10853                                                                                                                                                           [Fishing stories, Camping, Trapping]                     1\n",
       "10854                                                                              [Children, Conduct of life, Friendship, Quarreling, Theft, Evidence, Circumstantial, Temperance, Courage, Rabies]                     1\n",
       "10855  [Boys, Conduct of life, First year teachers, Teacher-student relationships, Students, Private schools, Electric generators, Physical sciences, Courtship, Country life, Brigands and robbers]                     1\n",
       "10856                                                                                                          [Blindness, Brothers and sisters, Charity, Christian life, Poverty, Success, Artists]                     1\n",
       "10857                             [Fathers and daughters, Poverty, Farm life, Animals, Imaginary places, Adventure stories, Carnivals, Leisure, Water carriers (Persons), Monks, Children's stories]                     1\n",
       "10858                         [Frontier and pioneer life, Outdoor life, Conduct of life, Children, Wilderness survival, Nature stories., Home, Indians of North America, Inheritance and succession]                     1\n",
       "10859                                                                                             [Youth, Christian life, Children, Conduct of life, Courage, Prayer, Death, Children and strangers]                     1\n",
       "10860                                                                                              [Christian life, Conduct of life, Death, Prisoners, Remorse, Seafaring life, Suspicion, Children]                     1\n",
       "10861                                                                                               [Conversion, Protestant converts, Anti-Catholicism, Books, Christian life, Christian literature]                     1\n",
       "10862                                                                                                                    [Truthfulness and falsehood, Sisters, Boarding schools, Children and death]                     1"
      ]
     },
     "metadata": {},
     "output_type": "display_data"
    },
    {
     "name": "stdout",
     "output_type": "stream",
     "text": [
      "\n",
      "\n",
      "Percentage of the missing values in the topics: 9.350796549335683%\n"
     ]
    }
   ],
   "source": [
    "topics_count = data[\"topics\"].value_counts().reset_index()\n",
    "topics_count.columns=[\"topics\",\"Number of appearence\"]\n",
    "display(topics_count.head(15))\n",
    "display(topics_count.tail(15))\n",
    "\n",
    "# check the precentage of the missing values\n",
    "print(\"\\n\")\n",
    "print(\"Percentage of the missing values in the topics:\",end=\" \")\n",
    "print(100*(len(data[data[\"topics\"].str.len()==0])/len(data)),end=\"%\\n\")"
   ]
  },
  {
   "cell_type": "markdown",
   "id": "ca57e833",
   "metadata": {},
   "source": [
    "We can get the following conclusions from the tables we displayed:\n",
    "* The topics can repeat a few times - the topics nedd to be normalized.\n",
    "* The topics are usually short pharses of 1 or 2 words.\n",
    "* In 9.3% of the data(almost 10%) the book don't have topic. which is bad - because we wanted to use this subfield to find similartity between books."
   ]
  },
  {
   "cell_type": "markdown",
   "id": "9e918f72",
   "metadata": {},
   "source": [
    "## Normalization of topics to phrases"
   ]
  },
  {
   "cell_type": "markdown",
   "id": "3d1038e4",
   "metadata": {},
   "source": [
    "lets try to split the topics to phrases."
   ]
  },
  {
   "cell_type": "code",
   "execution_count": 7,
   "id": "bac4b12b",
   "metadata": {
    "ExecuteTime": {
     "end_time": "2022-01-09T19:51:33.799149Z",
     "start_time": "2022-01-09T19:51:33.707274Z"
    }
   },
   "outputs": [
    {
     "name": "stdout",
     "output_type": "stream",
     "text": [
      "['Child labor', 'Flour mills', 'Conduct of life', 'Children', 'Jealousy', 'Nannies']\n",
      "['Christian life', \"Children's stories\"]\n",
      "['Christian life', 'Conduct of life', 'Children', 'Brothers and sisters', 'Cheerfulness']\n",
      "['Slavery', 'African Americans', 'Plantation life', 'Cruelty', 'Fugitive slaves', 'Christian life', 'Slaves']\n",
      "['Christian life', \"Children's stories\"]\n",
      "['Cats', 'Aunts', 'Poor', 'Boys', 'Animal welfare', 'Conduct of life', 'Fairies', 'Cousins', 'Ponies', 'Dreams', 'Birds']\n",
      "['Horses', 'Aunts', 'Steamboats', 'Voyages and travels', 'Storytelling', 'Conduct of life', 'Children', 'Families']\n",
      "['Laziness', 'Honesty', 'Conduct of life', 'Children', 'Brothers and sisters', 'Parent and child']\n",
      "['Laziness', 'Country life', 'Animal welfare', 'Conduct of life', 'Kindness']\n",
      "['Bees', 'Christian life', 'Conduct of life', 'Kindness', 'Children', 'Diligence', 'Mothers and daughters']\n",
      "['Magic', 'Elves', 'Kings and rulers', 'Aunts', 'Fairies', 'Conduct of life', 'Children']\n",
      "['Pride and vanity', 'Youth', 'Fathers and sons', 'Conduct of life', 'Cooks', 'Runaway children', 'Deception']\n",
      "[\"Children's stories\", 'English', 'Fables', 'Gold mines and mining']\n",
      "['Benevolence', 'Filial piety', 'Christian life', 'Peddlers', 'Peddling']\n",
      "['Sisters', 'Obedience', 'Truthfulness and falsehood', 'Christian life', 'Jealousy']\n"
     ]
    }
   ],
   "source": [
    "normalized_topics = []\n",
    "for record_topics in topic_by_record:\n",
    "    rec_topics = list(set(record_topics))\n",
    "    normalized_topic_record = []\n",
    "    for topic in rec_topics:\n",
    "        if '/' in topic:\n",
    "            topic = topic.replace(\"/\",\",\")\n",
    "        elif \"--\" in topic:\n",
    "            topic = topic.replace(\"--\",\",\")\n",
    "        elif \"—\" in topic:   \n",
    "            topic = topic.replace(\"—\",\",\")\n",
    "        normalized_topic_record = normalized_topic_record+(topic.split(\", \"))   \n",
    "    normalized_topics.append(normalized_topic_record)  \n",
    "    \n",
    "for i in range(len(normalized_topics)):\n",
    "    if \"\" in normalized_topics[i]:\n",
    "        normalized_topics[i].remove(\"\")\n",
    "    for j in range(len(normalized_topics[i])):  \n",
    "        if len(normalized_topics[i][j])!=0 and normalized_topics[i][j][-1] in [\".\",\" \"]:\n",
    "            normalized_topics[i][j] = normalized_topics[i][j][:-1] \n",
    "            \n",
    "print(*normalized_topics[160:175],sep=\"\\n\")    "
   ]
  },
  {
   "cell_type": "markdown",
   "id": "ea8e595e",
   "metadata": {},
   "source": [
    "Lets check how much pharses we have in each topics."
   ]
  },
  {
   "cell_type": "code",
   "execution_count": 8,
   "id": "99148b72",
   "metadata": {
    "ExecuteTime": {
     "end_time": "2022-01-09T19:51:33.971669Z",
     "start_time": "2022-01-09T19:51:33.942778Z"
    }
   },
   "outputs": [
    {
     "name": "stdout",
     "output_type": "stream",
     "text": [
      "11455\n",
      "2941\n",
      "1485\n"
     ]
    }
   ],
   "source": [
    "multi_phrase_topic= []\n",
    "one_phrase_topic = []\n",
    "no_phrase_topics = []\n",
    "for topic in normalized_topics:\n",
    "    if len(topic)>1:\n",
    "        multi_phrase_topic.append(topic) \n",
    "    elif len(topic)==1:  \n",
    "        one_phrase_topic.append(topic)\n",
    "    else:\n",
    "        no_phrase_topics.append(topic)\n",
    "print(len(multi_phrase_topic)) \n",
    "print(len(one_phrase_topic))\n",
    "print(len(no_phrase_topics))"
   ]
  },
  {
   "cell_type": "markdown",
   "id": "c2e1099c",
   "metadata": {},
   "source": [
    "Check the results of the normaliztion"
   ]
  },
  {
   "cell_type": "code",
   "execution_count": 9,
   "id": "4ddee6b9",
   "metadata": {
    "ExecuteTime": {
     "end_time": "2022-01-09T19:51:35.010183Z",
     "start_time": "2022-01-09T19:51:34.997100Z"
    }
   },
   "outputs": [
    {
     "name": "stdout",
     "output_type": "stream",
     "text": [
      "Percentage of the topics that have multiple phrases: 72.13021850009446%\n",
      "Print example of 40 topics in the data:\n",
      "['Show jumping', 'Lesbians', 'Teenage girls']\n",
      "[]\n",
      "['Thieves']\n",
      "['Young women']\n",
      "[]\n",
      "['Actors', 'Theater']\n",
      "['Romance fiction', 'Christian fiction']\n",
      "[]\n",
      "['Sadomasochism']\n",
      "['Books and reading']\n",
      "['Legal stories', 'Family secrets', 'Lawyers', 'Irish Americans']\n",
      "['Rabbis']\n",
      "['Kidnapping']\n",
      "[]\n",
      "['Strangers', 'Country life']\n",
      "['Immigrants', 'Hockey stories', 'Canadian (English)', 'Poor families', 'Jews']\n",
      "['Narration (Rhetoric)', 'Storytelling', 'Fiction', 'Identity (Psychology) in literature', 'Multiculturalism', 'Politics and literature']\n",
      "[\"Children's stories\", 'English', 'Fantasy fiction', 'English', 'Characters and characteristics']\n",
      "['HIV-positive persons']\n",
      "['Canadian fiction (English)', 'Short stories', 'Canadian (English)', 'Comic books', 'strips', 'etc', 'Canadian (English)']\n",
      "[]\n",
      "['Private investigators']\n",
      "['Rural families', 'Rejection (Psychology)', 'Foundlings', 'Triangles (Interpersonal relations)']\n",
      "['Children of gay parents', 'Homosexuality and Christianity']\n",
      "['Organized crime', 'Suspense fiction', 'Undercover operations', 'Taggart', 'Jack (Fictitious character)']\n",
      "['Women', 'Science fiction', 'Canadian']\n",
      "['College teachers']\n",
      "['Zoologists']\n",
      "['Lesbianisme', 'Lesbianism']\n",
      "['Murder', 'Boxers (Sports)', 'Inheritance and succession', 'Police', 'Private']\n",
      "['Eccentrics and eccentricities']\n",
      "['Dragons']\n",
      "['Lesbians', 'Young women']\n",
      "['Erzählung', 'Farm life', 'Englisch']\n",
      "['Private investigators']\n",
      "['Families', 'World War', '1939-1945', 'British', 'Fathers and sons']\n",
      "['Quests (Expeditions)']\n",
      "['Water mills', 'Conflict of generations', 'Loss (Psychology)', 'Vendetta', 'Young women', 'Brothers and sisters']\n",
      "['Geschichte']\n",
      "['Dysfunctional families', 'Memory']\n",
      "['Sisters', 'Adopted children']\n"
     ]
    }
   ],
   "source": [
    "import random\n",
    "\n",
    "print(\"Percentage of the topics that have multiple phrases:\",end=\" \")\n",
    "print(100*(len(multi_phrase_topic)/len(normalized_topics)),end=\"%\\n\")\n",
    "\n",
    "print(\"Print example of 40 topics in the data:\")\n",
    "random_row = random.randint(0,len(normalized_topics)-41)\n",
    "print(*normalized_topics[random_row:random_row+41],sep=\"\\n\")            "
   ]
  },
  {
   "cell_type": "markdown",
   "id": "ebeba662",
   "metadata": {},
   "source": [
    "Check if all the topics are in english. We will use WordNet and the enchant library to check that. Lets define a topic that is not english as a topic that all the words in it are not recognized by our tools."
   ]
  },
  {
   "cell_type": "code",
   "execution_count": 10,
   "id": "a495f2bd",
   "metadata": {
    "ExecuteTime": {
     "end_time": "2022-01-09T19:52:00.861122Z",
     "start_time": "2022-01-09T19:51:37.592490Z"
    }
   },
   "outputs": [
    {
     "name": "stdout",
     "output_type": "stream",
     "text": [
      "The number of books with topics that are not in english: 122\n"
     ]
    }
   ],
   "source": [
    "from nltk.corpus import wordnet as wn\n",
    "import enchant\n",
    "import re\n",
    "us_d = enchant.Dict(\"en_US\")\n",
    "gb_d = enchant.Dict(\"en_GB\")\n",
    "\n",
    "english_topics = []\n",
    "not_english_topics = []\n",
    "for topic in normalized_topics:\n",
    "    if len(topic)==0:\n",
    "        continue\n",
    "    words = 0\n",
    "    words_in_other_language = 0\n",
    "    for phrase in topic:\n",
    "        word_finder = re.split(r\"[^a-zA-Z]\",phrase)\n",
    "        words+=len(word_finder)\n",
    "        for word in word_finder:\n",
    "            if len(word)==0:\n",
    "                words -= 1\n",
    "            elif not (us_d.check(word) or gb_d.check(word)) and len(wn.synsets(word))==0:\n",
    "                words_in_other_language += 1\n",
    "                \n",
    "    if words<=3 and words_in_other_language*2<words:\n",
    "        english_topics.append(topic)\n",
    "    elif words_in_other_language*2.5<words:     \n",
    "        english_topics.append(topic)\n",
    "    else:\n",
    "        not_english_topics.append(topic)\n",
    "print(\"The number of books with topics that are not in english:\",len(not_english_topics))"
   ]
  },
  {
   "cell_type": "code",
   "execution_count": 11,
   "id": "8ce64496",
   "metadata": {
    "ExecuteTime": {
     "end_time": "2022-01-09T19:52:01.034681Z",
     "start_time": "2022-01-09T19:52:01.003646Z"
    }
   },
   "outputs": [
    {
     "name": "stdout",
     "output_type": "stream",
     "text": [
      "['Birthparents']\n",
      "['Women', 'Anthologie', 'Erotische Erzählung', 'American fiction', 'Erotic stories', 'American', 'Erotic stories', 'American', 'Frauenerzählung']\n",
      "['Ayahuasca']\n",
      "['Japanese Americans', \"Américains d'origine japonaise\"]\n",
      "['Roman canadien-anglais', 'Nouvelles canadiennes-anglaises', 'Canadian fiction', 'Short stories', 'Canadian']\n",
      "['Enfants', 'Littérature de jeunesse canadienne-anglaise', 'Meilleurs ouvrages', 'Best books', \"Children's literature\", 'Canadian (English)', 'Children', 'Roman historique canadien-anglais', 'Historical fiction', 'Canadian (English)']\n",
      "['Écrits de femmes antillais (anglais)', 'Lesbians', 'Lesbianisme', \"Lesbians' writings\", 'Nouvelles antillaises (anglaises)', 'Short stories', 'Caribbean (English)', 'Lesbiennes', 'Lesbianism']\n",
      "['Sadomasochisme', 'Sadomasochism', 'Prostituées', 'Prostitutes']\n",
      "['Verteltheorie', 'Narration (Rhetoric)', 'Roman', 'Fiction', 'Prosa', 'Narration', 'Analyse du discours narratif', 'English fiction', 'Erzähltechnik']\n",
      "['Narration (Rhetoric)', 'Erzählperspektive', 'Technique', 'Fiction', 'Glaubwürdigkeit', 'Point of view (Literature)', 'Erzähler']\n",
      "\n"
     ]
    }
   ],
   "source": [
    "print(*not_english_topics[55:65],sep=\"\\n\",end=\"\\n\\n\")"
   ]
  },
  {
   "cell_type": "markdown",
   "id": "3ac70517",
   "metadata": {},
   "source": [
    "### Create a dataframe with the final information"
   ]
  },
  {
   "cell_type": "code",
   "execution_count": 12,
   "id": "fe2c8d3d",
   "metadata": {
    "ExecuteTime": {
     "end_time": "2022-01-09T19:52:01.207897Z",
     "start_time": "2022-01-09T19:52:01.162447Z"
    }
   },
   "outputs": [
    {
     "data": {
      "text/html": [
       "<div>\n",
       "<style scoped>\n",
       "    .dataframe tbody tr th:only-of-type {\n",
       "        vertical-align: middle;\n",
       "    }\n",
       "\n",
       "    .dataframe tbody tr th {\n",
       "        vertical-align: top;\n",
       "    }\n",
       "\n",
       "    .dataframe thead th {\n",
       "        text-align: right;\n",
       "    }\n",
       "</style>\n",
       "<table border=\"1\" class=\"dataframe\">\n",
       "  <thead>\n",
       "    <tr style=\"text-align: right;\">\n",
       "      <th></th>\n",
       "      <th>id</th>\n",
       "      <th>isbn</th>\n",
       "      <th>title</th>\n",
       "      <th>topics</th>\n",
       "      <th>description</th>\n",
       "      <th>author</th>\n",
       "      <th>pages</th>\n",
       "    </tr>\n",
       "  </thead>\n",
       "  <tbody>\n",
       "    <tr>\n",
       "      <th>0</th>\n",
       "      <td>990144992260203941</td>\n",
       "      <td>1451631839</td>\n",
       "      <td>The Highlander's stolen bride</td>\n",
       "      <td>[Romance fiction]</td>\n",
       "      <td>Despite his plans to marry his childhood friend Megan MacPherson, highland laird Derek Hardwicke is irrestibly drawn to Lady Rosalyn Carmichael, a lovely English girl on the run from her evil stepbrother, who will do anything to seize control of her inheritance.</td>\n",
       "      <td>George, Melanie.</td>\n",
       "      <td>355.0</td>\n",
       "    </tr>\n",
       "    <tr>\n",
       "      <th>1</th>\n",
       "      <td>990144992640203941</td>\n",
       "      <td>9780060009250</td>\n",
       "      <td>Daisy's back in town</td>\n",
       "      <td>[Man-woman relationships]</td>\n",
       "      <td>Former cheerleader Daisy Lee Monroe returns to her hometown of Lovett, Texas, and to her offbeat family, and is reunitied with gorgeous bad boy Jackson Lamott Parrish, the man she had left behind.</td>\n",
       "      <td>Gibson, Rachel</td>\n",
       "      <td>370.0</td>\n",
       "    </tr>\n",
       "    <tr>\n",
       "      <th>2</th>\n",
       "      <td>990144992760203941</td>\n",
       "      <td>9780060009243</td>\n",
       "      <td>See Jane score</td>\n",
       "      <td>[Hockey players, Tabloid newspapers, Women sportswriters]</td>\n",
       "      <td>While covering the Seattle Chinooks hockey team, reporter Jane Alcott meets career-focused goalie Luc Martineau, but their relationship is threatened by Jane's other occupation--writing the scandalous \"Honey Pie\" adventures.</td>\n",
       "      <td>Gibson, Rachel</td>\n",
       "      <td>375.0</td>\n",
       "    </tr>\n",
       "    <tr>\n",
       "      <th>3</th>\n",
       "      <td>990144992830203941</td>\n",
       "      <td>9780312992828</td>\n",
       "      <td>Deeper than desire</td>\n",
       "      <td>[Romance fiction]</td>\n",
       "      <td>DESCRIPTION: With her family in dire straits, Olivia Hopkins reluctantly agrees to seek a marriage proposal from the aging Earl of Bristol. But the plan goes awry when Olivia finds an erotic volume in the Earl's library. Catching Olivia with the scandalous volume offers Philip Paxton a superb chance to humiliate the father he despises. Using the book as bait, Philip lures Olivia into an electrifying affair that explodes into unbridled lessons of carnal pleasure ...</td>\n",
       "      <td>Holt, Cheryl,</td>\n",
       "      <td>376.0</td>\n",
       "    </tr>\n",
       "    <tr>\n",
       "      <th>4</th>\n",
       "      <td>990144992890203941</td>\n",
       "      <td>9780312937973</td>\n",
       "      <td>Too hot to handle</td>\n",
       "      <td>[Man-woman relationships]</td>\n",
       "      <td>Arriving at the residence of the Earl of Winchester to interview for the position of governess to his two young wards in order to escaped an unwanted marriage, Emily Barnett is stunned to discover that the earl is also in the market for a new mistress.</td>\n",
       "      <td>Holt, Cheryl,</td>\n",
       "      <td>342.0</td>\n",
       "    </tr>\n",
       "  </tbody>\n",
       "</table>\n",
       "</div>"
      ],
      "text/plain": [
       "                   id           isbn                           title                                                     topics                                                                                                                                                                                                                                                                                                                                                                                                                                                                            description            author  pages\n",
       "0  990144992260203941     1451631839  The Highlander's stolen bride                                           [Romance fiction]                                                                                                                                                                                                                 Despite his plans to marry his childhood friend Megan MacPherson, highland laird Derek Hardwicke is irrestibly drawn to Lady Rosalyn Carmichael, a lovely English girl on the run from her evil stepbrother, who will do anything to seize control of her inheritance.  George, Melanie.  355.0\n",
       "1  990144992640203941  9780060009250           Daisy's back in town                                   [Man-woman relationships]                                                                                                                                                                                                                                                                                   Former cheerleader Daisy Lee Monroe returns to her hometown of Lovett, Texas, and to her offbeat family, and is reunitied with gorgeous bad boy Jackson Lamott Parrish, the man she had left behind.    Gibson, Rachel  370.0\n",
       "2  990144992760203941  9780060009243                 See Jane score   [Hockey players, Tabloid newspapers, Women sportswriters]                                                                                                                                                                                                                                                       While covering the Seattle Chinooks hockey team, reporter Jane Alcott meets career-focused goalie Luc Martineau, but their relationship is threatened by Jane's other occupation--writing the scandalous \"Honey Pie\" adventures.    Gibson, Rachel  375.0\n",
       "3  990144992830203941  9780312992828             Deeper than desire                                           [Romance fiction]  DESCRIPTION: With her family in dire straits, Olivia Hopkins reluctantly agrees to seek a marriage proposal from the aging Earl of Bristol. But the plan goes awry when Olivia finds an erotic volume in the Earl's library. Catching Olivia with the scandalous volume offers Philip Paxton a superb chance to humiliate the father he despises. Using the book as bait, Philip lures Olivia into an electrifying affair that explodes into unbridled lessons of carnal pleasure ...     Holt, Cheryl,  376.0\n",
       "4  990144992890203941  9780312937973              Too hot to handle                                   [Man-woman relationships]                                                                                                                                                                                                                           Arriving at the residence of the Earl of Winchester to interview for the position of governess to his two young wards in order to escaped an unwanted marriage, Emily Barnett is stunned to discover that the earl is also in the market for a new mistress.     Holt, Cheryl,  342.0"
      ]
     },
     "metadata": {},
     "output_type": "display_data"
    }
   ],
   "source": [
    "book_dataset = pd.DataFrame({\"id\":ids,\n",
    "                             \"isbn\":records_isbn,\n",
    "                             \"title\":titles,\n",
    "                             \"topics\":normalized_topics,\n",
    "                             \"description\":descriptions,\n",
    "                             \"author\":authors,\n",
    "                             \"pages\":book_pages})\n",
    "display(book_dataset.head(5))"
   ]
  },
  {
   "cell_type": "code",
   "execution_count": null,
   "id": "416dab36",
   "metadata": {},
   "outputs": [],
   "source": []
  },
  {
   "cell_type": "code",
   "execution_count": null,
   "id": "770d565f",
   "metadata": {},
   "outputs": [],
   "source": []
  },
  {
   "cell_type": "code",
   "execution_count": 13,
   "id": "fd2c0ff1",
   "metadata": {
    "ExecuteTime": {
     "end_time": "2022-01-09T19:52:14.385141Z",
     "start_time": "2022-01-09T19:52:01.404803Z"
    }
   },
   "outputs": [
    {
     "name": "stdout",
     "output_type": "stream",
     "text": [
      "Choose 2 random books with topics\n",
      "Compare between those 2 books:\n",
      "\n",
      "Title: A lesson in love  \n",
      "Topics: ['Lesbian students', 'Young women', 'Lesbian youth', 'Coming-of-age stories', 'Orphans']\n",
      "\n",
      "Title: Stony glances  \n",
      "Topics: ['Gay men']\n",
      "\n",
      "Results: [0.6247083550590737, 0.7784994118412452, 0.7299363917192144, 0.4627758412536999, 0.23531509790601265]\n",
      "The mean similarity between the 2 books is: 0.5662470195558492\n"
     ]
    }
   ],
   "source": [
    "import spacy\n",
    "import random\n",
    "from statistics import mean\n",
    "nlp = spacy.load(\"en_core_web_lg\")\n",
    "\n",
    "print(\"Choose 2 random books with topics\")\n",
    "book_1 = 0\n",
    "book_2 = 0\n",
    "while True:\n",
    "    book_1 = random.randint(0,len(book_dataset))\n",
    "    book_2 = random.randint(0,len(book_dataset))\n",
    "    if len(book_dataset.iloc[book_1]['topics'])!=0 and len(book_dataset.iloc[book_2]['topics'])!=0:\n",
    "        break\n",
    "\n",
    "print(\"Compare between those 2 books:\\n\")\n",
    "print(\"Title:\",book_dataset.iloc[book_1]['title'],\"\\nTopics:\",book_dataset.iloc[book_1]['topics'],end=\"\\n\\n\")\n",
    "print(\"Title:\",book_dataset.iloc[book_2]['title'],\"\\nTopics:\",book_dataset.iloc[book_2]['topics'],end=\"\\n\\n\")\n",
    "    \n",
    "similarity_results = []\n",
    "for phrase1 in book_dataset.iloc[book_1][\"topics\"]:\n",
    "    doc1 = nlp(phrase1)\n",
    "    top_similarity = 0\n",
    "    for phrase2 in book_dataset.iloc[book_2][\"topics\"]:\n",
    "        doc2 = nlp(phrase2) \n",
    "        res = doc1.similarity(doc2)\n",
    "        if top_similarity < res:\n",
    "            top_similarity = res\n",
    "            if top_similarity==1:\n",
    "                break\n",
    "    similarity_results.append(top_similarity)    \n",
    "\n",
    "print(\"Results:\",similarity_results)\n",
    "print(\"The mean similarity between the 2 books is:\",mean(similarity_results))"
   ]
  }
 ],
 "metadata": {
  "kernelspec": {
   "display_name": "Python 3.9 (Tensorflow 2.5)",
   "language": "python",
   "name": "tf-2.5"
  },
  "language_info": {
   "codemirror_mode": {
    "name": "ipython",
    "version": 3
   },
   "file_extension": ".py",
   "mimetype": "text/x-python",
   "name": "python",
   "nbconvert_exporter": "python",
   "pygments_lexer": "ipython3",
   "version": "3.9.6"
  },
  "toc": {
   "base_numbering": 1,
   "nav_menu": {},
   "number_sections": true,
   "sideBar": true,
   "skip_h1_title": false,
   "title_cell": "Table of Contents",
   "title_sidebar": "Contents",
   "toc_cell": false,
   "toc_position": {},
   "toc_section_display": true,
   "toc_window_display": false
  },
  "varInspector": {
   "cols": {
    "lenName": 16,
    "lenType": 16,
    "lenVar": 40
   },
   "kernels_config": {
    "python": {
     "delete_cmd_postfix": "",
     "delete_cmd_prefix": "del ",
     "library": "var_list.py",
     "varRefreshCmd": "print(var_dic_list())"
    },
    "r": {
     "delete_cmd_postfix": ") ",
     "delete_cmd_prefix": "rm(",
     "library": "var_list.r",
     "varRefreshCmd": "cat(var_dic_list()) "
    }
   },
   "types_to_exclude": [
    "module",
    "function",
    "builtin_function_or_method",
    "instance",
    "_Feature"
   ],
   "window_display": false
  }
 },
 "nbformat": 4,
 "nbformat_minor": 5
}
